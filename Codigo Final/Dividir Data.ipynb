{
 "cells": [
  {
   "cell_type": "code",
   "execution_count": 1,
   "id": "fdaedcc9",
   "metadata": {},
   "outputs": [],
   "source": [
    "import os, shutil\n",
    "import pandas as pd\n",
    "import tensorflow as tf\n",
    "\n",
    "orig_dataset_dir = 'C:/Users/fabio/Documents/PlantPathology/images'\n",
    "base_dir = 'C:/Users/fabio/Documents/PlantPathology/images_cnn'\n",
    "os.makedirs(base_dir, exist_ok=True)"
   ]
  },
  {
   "cell_type": "code",
   "execution_count": 2,
   "id": "320da30a",
   "metadata": {},
   "outputs": [
    {
     "name": "stdout",
     "output_type": "stream",
     "text": [
      "Num of GPU's available:  1\n"
     ]
    }
   ],
   "source": [
    "#configuring GPU\n",
    "physical_device = tf.config.experimental.list_physical_devices('GPU')\n",
    "print(\"Num of GPU's available: \",len(physical_device))\n",
    "tf.config.experimental.set_memory_growth(physical_device[0],True)"
   ]
  },
  {
   "cell_type": "code",
   "execution_count": 3,
   "id": "caa6750b",
   "metadata": {},
   "outputs": [
    {
     "data": {
      "text/plain": [
       "scab                  4826\n",
       "healthy               4624\n",
       "frog_eye_leaf_spot    3181\n",
       "rust                  1860\n",
       "complex               1602\n",
       "powdery_mildew        1184\n",
       "Name: labels, dtype: int64"
      ]
     },
     "execution_count": 3,
     "metadata": {},
     "output_type": "execute_result"
    }
   ],
   "source": [
    "images_csv = pd.read_csv('C:/Users/fabio/Documents/PlantPathology/train.csv')\n",
    "one_condition = ['scab', 'healthy', 'frog_eye_leaf_spot', 'rust', 'complex', 'powdery_mildew']\n",
    "images_csv_one_condition = images_csv[images_csv['labels'].isin(one_condition)].reset_index(drop=True)\n",
    "images_csv_one_condition['labels'].value_counts()"
   ]
  },
  {
   "cell_type": "code",
   "execution_count": 4,
   "id": "dd1ddac9",
   "metadata": {},
   "outputs": [],
   "source": [
    "images_dictionary = {'scab': [], 'healthy': [], 'frog_eye_leaf_spot': [], 'rust': [], 'complex': [], 'powdery_mildew': []}\n",
    "\n",
    "for index in range(len(images_csv_one_condition)):\n",
    "    label = images_csv_one_condition.loc[index, 'labels']\n",
    "    images_dictionary[label].append(images_csv_one_condition.loc[index, 'image'])"
   ]
  },
  {
   "cell_type": "code",
   "execution_count": 5,
   "id": "0a790381",
   "metadata": {},
   "outputs": [
    {
     "data": {
      "text/plain": [
       "'80077517781fb94f.jpg'"
      ]
     },
     "execution_count": 5,
     "metadata": {},
     "output_type": "execute_result"
    }
   ],
   "source": [
    "images_dictionary['scab'][1]"
   ]
  },
  {
   "cell_type": "code",
   "execution_count": 6,
   "id": "72cb27f7",
   "metadata": {},
   "outputs": [],
   "source": [
    "#CREATE TRAIN, VALIDATION AND TEST FOLDERS\n",
    "train_dir = os.path.join(base_dir,'train')\n",
    "os.mkdir(train_dir)\n",
    "validation_dir = os.path.join(base_dir,'validation')\n",
    "os.mkdir(validation_dir)\n",
    "test_dir = os.path.join(base_dir,'test')\n",
    "os.mkdir(test_dir)"
   ]
  },
  {
   "cell_type": "code",
   "execution_count": 7,
   "id": "9fbf5ada",
   "metadata": {},
   "outputs": [],
   "source": [
    "####Training folders\n",
    "#CREATE SUBFOLDERS FOR EACH CLASS\n",
    "train_complex_dir = os.path.join(train_dir,'complex')\n",
    "os.mkdir(train_complex_dir)\n",
    "train_frog_eye_leaf_spot_dir = os.path.join(train_dir,'frog_eye_leaf_spot')\n",
    "os.mkdir(train_frog_eye_leaf_spot_dir)\n",
    "train_powdery_mildew_dir = os.path.join(train_dir,'powdery_mildew')\n",
    "os.mkdir(train_powdery_mildew_dir)\n",
    "train_rust_dir = os.path.join(train_dir,'rust')\n",
    "os.mkdir(train_rust_dir)\n",
    "train_healthy_dir = os.path.join(train_dir,'healthy')\n",
    "os.mkdir(train_healthy_dir)\n",
    "train_scab_dir = os.path.join(train_dir,'scab')\n",
    "os.mkdir(train_scab_dir)\n",
    "\n",
    "####Validation folders\n",
    "#CREATE SUBFOLDERS FOR EACH CLASS\n",
    "validation_complex_dir = os.path.join(validation_dir,'complex')\n",
    "os.mkdir(validation_complex_dir)\n",
    "validation_frog_eye_leaf_spot_dir = os.path.join(validation_dir,'frog_eye_leaf_spot')\n",
    "os.mkdir(validation_frog_eye_leaf_spot_dir)\n",
    "validation_powdery_mildew_dir = os.path.join(validation_dir,'powdery_mildew')\n",
    "os.mkdir(validation_powdery_mildew_dir)\n",
    "validation_rust_dir = os.path.join(validation_dir,'rust')\n",
    "os.mkdir(validation_rust_dir)\n",
    "validation_healthy_dir = os.path.join(validation_dir,'healthy')\n",
    "os.mkdir(validation_healthy_dir)\n",
    "validation_scab_dir = os.path.join(validation_dir,'scab')\n",
    "os.mkdir(validation_scab_dir)\n",
    "\n",
    "####Test folders\n",
    "#CREATE SUBFOLDERS FOR EACH CLASS\n",
    "test_complex_dir = os.path.join(test_dir,'complex')\n",
    "os.mkdir(test_complex_dir)\n",
    "test_frog_eye_leaf_spot_dir = os.path.join(test_dir,'frog_eye_leaf_spot')\n",
    "os.mkdir(test_frog_eye_leaf_spot_dir)\n",
    "test_powdery_mildew_dir = os.path.join(test_dir,'powdery_mildew')\n",
    "os.mkdir(test_powdery_mildew_dir)\n",
    "test_rust_dir = os.path.join(test_dir,'rust')\n",
    "os.mkdir(test_rust_dir)\n",
    "test_healthy_dir = os.path.join(test_dir,'healthy')\n",
    "os.mkdir(test_healthy_dir)\n",
    "test_scab_dir = os.path.join(test_dir,'scab')\n",
    "os.mkdir(test_scab_dir)"
   ]
  },
  {
   "cell_type": "code",
   "execution_count": 8,
   "id": "1e46c94d",
   "metadata": {},
   "outputs": [],
   "source": [
    "#Function to join images to training folder\n",
    "def image_join(disease,limit,source_path,dest_path):\n",
    "    \"\"\" Function to copy images\n",
    "    Args\n",
    "    disease: [string], the name of the disease\n",
    "    limit: [int], number of images to add\n",
    "    source_path: [path] ,path source of disease images, i.e. Complex\n",
    "    dest_path: [path], path destiny of disease images, i.e. train_complex_dir\n",
    "    return: None\n",
    "    \"\"\"\n",
    "    for image_scab in images_dictionary[disease][:limit]:\n",
    "        source = os.path.join(source_path, image_scab).replace(\"\\\\\",\"/\")\n",
    "        dest = os.path.join(dest_path, image_scab).replace(\"\\\\\",\"/\")\n",
    "        shutil.copyfile(source, dest)"
   ]
  },
  {
   "cell_type": "code",
   "execution_count": 9,
   "id": "ad4d7f9e",
   "metadata": {},
   "outputs": [],
   "source": [
    "#TRAIN FOLDER\n",
    "#Complex training\n",
    "image_join('complex',1281,orig_dataset_dir,train_complex_dir)\n",
    "#frog_eye_leaf_spot training\n",
    "image_join(\"frog_eye_leaf_spot\",1280,orig_dataset_dir,train_frog_eye_leaf_spot_dir)\n",
    "#Powdery_Mildew training\n",
    "image_join(\"powdery_mildew\",947,orig_dataset_dir,train_powdery_mildew_dir)\n",
    "#For Rust training\n",
    "image_join(\"rust\",1488,orig_dataset_dir,train_rust_dir)\n",
    "#For Healthy training\n",
    "image_join(\"healthy\",1280,orig_dataset_dir,train_healthy_dir)\n",
    "#For scab training\n",
    "image_join('scab',1280,orig_dataset_dir,train_scab_dir)"
   ]
  },
  {
   "cell_type": "code",
   "execution_count": 10,
   "id": "71899ea8",
   "metadata": {},
   "outputs": [],
   "source": [
    "def image_join_with_limits(disease,lower_limit,upper_limit,source_path,dest_path):\n",
    "    \"\"\" Function to copy images\n",
    "    Args\n",
    "    disease: [string], the name of the disease\n",
    "    lower_limit: [int], number of training examples\n",
    "    lower_limit: [int], number of validation examples\n",
    "    source_path: [path] ,path source of disease images, i.e. Complex\n",
    "    dest_path: [path], path destiny of disease images, i.e. train_complex_dir\n",
    "    return: None\n",
    "    \"\"\"\n",
    "    for image_scab in images_dictionary[disease][lower_limit:lower_limit+upper_limit]:\n",
    "        source = os.path.join(source_path, image_scab).replace(\"\\\\\",\"/\")\n",
    "        dest = os.path.join(dest_path, image_scab).replace(\"\\\\\",\"/\")\n",
    "        shutil.copyfile(source, dest)"
   ]
  },
  {
   "cell_type": "code",
   "execution_count": 11,
   "id": "c285d908",
   "metadata": {},
   "outputs": [],
   "source": [
    "#VALIDATION FOLDER\n",
    "#Complex Validation\n",
    "#different function, including [1120:1120+320]\n",
    "image_join_with_limits(\"complex\",1281,160,orig_dataset_dir,validation_complex_dir)\n",
    "#frog_eye_leaf_spot training\n",
    "image_join_with_limits(\"frog_eye_leaf_spot\",1280,160,orig_dataset_dir,validation_frog_eye_leaf_spot_dir)\n",
    "#Powdery_Mildew validation\n",
    "image_join_with_limits(\"powdery_mildew\",947,118,orig_dataset_dir,validation_powdery_mildew_dir)\n",
    "#For Rust validation\n",
    "image_join_with_limits(\"rust\",1488,186,orig_dataset_dir,validation_rust_dir)\n",
    "#For Healthy validation\n",
    "image_join_with_limits(\"healthy\",1280,160,orig_dataset_dir,validation_healthy_dir)\n",
    "#For scab validation\n",
    "image_join_with_limits('scab',1280,160,orig_dataset_dir,validation_scab_dir)"
   ]
  },
  {
   "cell_type": "code",
   "execution_count": 12,
   "id": "8fac5253",
   "metadata": {},
   "outputs": [],
   "source": [
    "#TEST FOLDER\n",
    "#Complex test\n",
    "#different function, including [400+280:400+280+80]\n",
    "image_join_with_limits(\"complex\",1281+160,160,orig_dataset_dir,test_complex_dir)\n",
    "#frog_eye_leaf_spot test\n",
    "image_join_with_limits(\"frog_eye_leaf_spot\",1280+160,160,orig_dataset_dir,test_frog_eye_leaf_spot_dir)\n",
    "#Powdery_Mildew test\n",
    "image_join_with_limits(\"powdery_mildew\",947+118,118,orig_dataset_dir,test_powdery_mildew_dir)\n",
    "#For Rust test\n",
    "image_join_with_limits(\"rust\",1488+186,186,orig_dataset_dir,test_rust_dir)\n",
    "#For Healthy test\n",
    "image_join_with_limits(\"healthy\",1280+160,160,orig_dataset_dir,test_healthy_dir)\n",
    "#For scab test\n",
    "image_join_with_limits('scab',1280+160,160,orig_dataset_dir,test_scab_dir)"
   ]
  },
  {
   "cell_type": "code",
   "execution_count": 17,
   "id": "37073b74",
   "metadata": {},
   "outputs": [],
   "source": [
    "dir_train_complex = len(os.listdir(base_dir+\"/train/complex\"))\n",
    "dir_val_complex = len(os.listdir(base_dir+\"/validation/complex\"))\n",
    "dir_test_complex = len(os.listdir(base_dir+\"/test/complex\"))\n",
    "assert dir_train_complex == 1281\n",
    "assert dir_val_complex == 160\n",
    "assert dir_test_complex == 160"
   ]
  },
  {
   "cell_type": "code",
   "execution_count": null,
   "id": "1d7e3d89",
   "metadata": {},
   "outputs": [],
   "source": []
  },
  {
   "cell_type": "code",
   "execution_count": null,
   "id": "53123a17",
   "metadata": {},
   "outputs": [],
   "source": []
  },
  {
   "cell_type": "code",
   "execution_count": null,
   "id": "39a5769c",
   "metadata": {},
   "outputs": [],
   "source": []
  }
 ],
 "metadata": {
  "kernelspec": {
   "display_name": "Python 3",
   "language": "python",
   "name": "python3"
  },
  "language_info": {
   "codemirror_mode": {
    "name": "ipython",
    "version": 3
   },
   "file_extension": ".py",
   "mimetype": "text/x-python",
   "name": "python",
   "nbconvert_exporter": "python",
   "pygments_lexer": "ipython3",
   "version": "3.8.8"
  }
 },
 "nbformat": 4,
 "nbformat_minor": 5
}
